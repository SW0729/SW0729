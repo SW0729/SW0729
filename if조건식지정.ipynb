{
 "cells": [
  {
   "cell_type": "code",
   "execution_count": null,
   "metadata": {},
   "outputs": [
    {
     "name": "stdout",
     "output_type": "stream",
     "text": [
      "참\n"
     ]
    }
   ],
   "source": [
    "x = 10\n",
    "y = 20\n",
    "\n",
    "# 둘 중 하나라도 만족했을 때 '참'이 출력되려면 or 논리 연산자 사용\n",
    "if x == 10 and y == 20: # x가 10이면서 y가 20일 때\n",
    "    print('참')\n",
    "else:\n",
    "    print('거짓')"
   ]
  },
  {
   "cell_type": "code",
   "execution_count": 7,
   "metadata": {},
   "outputs": [
    {
     "name": "stdout",
     "output_type": "stream",
     "text": [
      "20보다 작은 양수입니다\n"
     ]
    }
   ],
   "source": [
    "if 0 < x < 20:\n",
    "    print('20보다 작은 양수입니다')"
   ]
  },
  {
   "cell_type": "code",
   "execution_count": null,
   "metadata": {},
   "outputs": [
    {
     "name": "stdout",
     "output_type": "stream",
     "text": [
      "20보다 작은 양수입니다\n"
     ]
    }
   ],
   "source": [
    "# 중첩 if 조건문과 논리 연산자\n",
    "\n",
    "if x > 0: # if가 0보다 큰지 검사\n",
    "    if x < 20: # if가 20보다 작은지 검사\n",
    "        print('20보다 작은 양수입니다')"
   ]
  },
  {
   "cell_type": "code",
   "execution_count": null,
   "metadata": {},
   "outputs": [
    {
     "name": "stdout",
     "output_type": "stream",
     "text": [
      "20보다 작은 양수입니다\n"
     ]
    }
   ],
   "source": [
    "# and 논리 연산자를 사용해 두 조건이 만족했을때 '20보다 작은 양수입니다'가 출력\n",
    "\n",
    "if x > 0 and x < 20:\n",
    "    print('20보다 작은 양수입니다')"
   ]
  },
  {
   "cell_type": "code",
   "execution_count": null,
   "metadata": {},
   "outputs": [
    {
     "name": "stdout",
     "output_type": "stream",
     "text": [
      "20보다 작은 양수입니다\n"
     ]
    }
   ],
   "source": [
    "# 조금 더 간단하게\n",
    "\n",
    "if 0 < x < 20:\n",
    "    print('20보다 작은 양수입니다')"
   ]
  }
 ],
 "metadata": {
  "kernelspec": {
   "display_name": "Python (myenv_)",
   "language": "python",
   "name": "myenv"
  },
  "language_info": {
   "codemirror_mode": {
    "name": "ipython",
    "version": 3
   },
   "file_extension": ".py",
   "mimetype": "text/x-python",
   "name": "python",
   "nbconvert_exporter": "python",
   "pygments_lexer": "ipython3",
   "version": "3.8.20"
  }
 },
 "nbformat": 4,
 "nbformat_minor": 2
}
