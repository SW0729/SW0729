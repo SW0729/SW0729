{
 "cells": [
  {
   "cell_type": "code",
   "execution_count": null,
   "metadata": {},
   "outputs": [],
   "source": [
    "if 조건식:\n",
    "    코드1\n",
    "else:\n",
    "    코드2"
   ]
  },
  {
   "cell_type": "code",
   "execution_count": 4,
   "metadata": {},
   "outputs": [
    {
     "name": "stdout",
     "output_type": "stream",
     "text": [
      "10이 아닙니다\n"
     ]
    }
   ],
   "source": [
    "x = 5 # 변수 선언\n",
    "if x == 10: # x가 10이라면\n",
    "    print('10입니다') # 조건식이 만족할 때 실행할 코드(if 본문)\n",
    "else:\n",
    "    print('10이 아닙니다') # 조건식이 만족하지 않을 때 실행할 코드(else 본문)"
   ]
  },
  {
   "cell_type": "code",
   "execution_count": 5,
   "metadata": {},
   "outputs": [
    {
     "data": {
      "text/plain": [
       "0"
      ]
     },
     "execution_count": 5,
     "metadata": {},
     "output_type": "execute_result"
    }
   ],
   "source": [
    "# 변수 x에 10이 들어있으면 y에 x를 할당하고, 아니면 y에 0을 할당하는 코드\n",
    "\n",
    "x = 5\n",
    "if x == 10:\n",
    "    y = x\n",
    "else:\n",
    "    y = 0\n",
    "\n",
    "y"
   ]
  },
  {
   "cell_type": "code",
   "execution_count": 6,
   "metadata": {},
   "outputs": [
    {
     "data": {
      "text/plain": [
       "0"
      ]
     },
     "execution_count": 6,
     "metadata": {},
     "output_type": "execute_result"
    }
   ],
   "source": [
    "# 변수 = 값 if 조건문 else 값 형식으로 축약\n",
    "\n",
    "x = 5\n",
    "y = x if x == 10 else 0 \n",
    "y"
   ]
  },
  {
   "cell_type": "code",
   "execution_count": 7,
   "metadata": {},
   "outputs": [
    {
     "name": "stdout",
     "output_type": "stream",
     "text": [
      "참\n",
      "거짓\n",
      "거짓\n"
     ]
    }
   ],
   "source": [
    "# 조건식이 아닌 값으로 if와 else의 코드 동작시키기\n",
    "\n",
    "if True:\n",
    "    print('참') # True는 참\n",
    "else:\n",
    "    print('거짓')\n",
    "\n",
    "if False:\n",
    "    print('참')\n",
    "else:\n",
    "    print('거짓') # False는 거짓\n",
    "\n",
    "if None:\n",
    "    print('참')\n",
    "else:\n",
    "    print('거짓') # None은 거짓"
   ]
  },
  {
   "cell_type": "code",
   "execution_count": 8,
   "metadata": {},
   "outputs": [
    {
     "name": "stdout",
     "output_type": "stream",
     "text": [
      "거짓\n",
      "참\n",
      "참\n",
      "참\n",
      "참\n"
     ]
    }
   ],
   "source": [
    "# if 조건문에 숫자 지정하기\n",
    "# 숫자는 정수(2진수, 10진수, 16진수), 실수와 관계없이 0이면 거짓, 0이 아닌 수는 참\n",
    "\n",
    "if 0:\n",
    "    print('참')\n",
    "else:\n",
    "    print('거짓') # 0dms 거짓\n",
    "\n",
    "if 1:\n",
    "    print('참') # 1은 참\n",
    "else:\n",
    "    print('거짓')\n",
    "\n",
    "if 0x1F: # 16진수\n",
    "    print('참') # 0x1F는 참\n",
    "else:\n",
    "    print('거짓')\n",
    "\n",
    "if 0b1000:    # 2진수\n",
    "    print('참')    # 0b1000은 참\n",
    "else:\n",
    "    print('거짓')\n",
    "\n",
    "if 13.5:    # 실수\n",
    "    print('참')    # 13.5는 참\n",
    "else:\n",
    "    print('거짓')"
   ]
  },
  {
   "cell_type": "code",
   "execution_count": 9,
   "metadata": {},
   "outputs": [
    {
     "name": "stdout",
     "output_type": "stream",
     "text": [
      "참\n",
      "거짓\n"
     ]
    }
   ],
   "source": [
    "# if 조건문에 문자열 지정하기\n",
    "# 문자열은 내용이 있을 때 참, 빈 문자열은 거짓\n",
    "\n",
    "if 'Hello': # 문자열\n",
    "    print('참') # 문자열은 참\n",
    "else:\n",
    "    print('거짓')\n",
    "\n",
    "if '': # 빈 문자열\n",
    "    print('참')\n",
    "else:\n",
    "    print('거짓') # 빈 문자열은 거짓"
   ]
  },
  {
   "cell_type": "code",
   "execution_count": 10,
   "metadata": {},
   "outputs": [
    {
     "name": "stdout",
     "output_type": "stream",
     "text": [
      "참\n",
      "참\n",
      "참\n"
     ]
    }
   ],
   "source": [
    "# 0, None, 빈 문자열을 not으로 뒤집으면\n",
    "# 0, None, 빈 문자열 ''을 not으로 뒤집으면 참(True)이 되므로 if를 동작시킬 수 있다\n",
    "\n",
    "if not 0:\n",
    "    print('참') # not 0은 참\n",
    "\n",
    "if not None:\n",
    "    print('참') # None은 참\n",
    "\n",
    "if not '':\n",
    "    print('참') # not 빈 문자열은 참"
   ]
  },
  {
   "cell_type": "code",
   "execution_count": 11,
   "metadata": {},
   "outputs": [
    {
     "name": "stdout",
     "output_type": "stream",
     "text": [
      "참\n"
     ]
    }
   ],
   "source": [
    "x = 10\n",
    "y = 20\n",
    "\n",
    "# 둘 중 하나라도 만족했을 때 '참'이 출력되려면 or 논리 연산자 사용\n",
    "if x == 10 and y == 20: # x가 10이면서 y가 20일 때\n",
    "    print('참')\n",
    "else:\n",
    "    print('거짓')"
   ]
  },
  {
   "cell_type": "code",
   "execution_count": 12,
   "metadata": {},
   "outputs": [
    {
     "name": "stdout",
     "output_type": "stream",
     "text": [
      "20보다 작은 양수입니다\n"
     ]
    }
   ],
   "source": [
    "if 0 < x < 20:\n",
    "    print('20보다 작은 양수입니다')"
   ]
  },
  {
   "cell_type": "code",
   "execution_count": 13,
   "metadata": {},
   "outputs": [
    {
     "name": "stdout",
     "output_type": "stream",
     "text": [
      "20보다 작은 양수입니다\n"
     ]
    }
   ],
   "source": [
    "# 중첩 if 조건문과 논리 연산자\n",
    "\n",
    "if x > 0: # if가 0보다 큰지 검사\n",
    "    if x < 20: # if가 20보다 작은지 검사\n",
    "        print('20보다 작은 양수입니다')"
   ]
  },
  {
   "cell_type": "code",
   "execution_count": 14,
   "metadata": {},
   "outputs": [
    {
     "name": "stdout",
     "output_type": "stream",
     "text": [
      "20보다 작은 양수입니다\n"
     ]
    }
   ],
   "source": [
    "# and 논리 연산자를 사용해 두 조건이 만족했을때 '20보다 작은 양수입니다'가 출력\n",
    "\n",
    "if x > 0 and x < 20:\n",
    "    print('20보다 작은 양수입니다')"
   ]
  },
  {
   "cell_type": "code",
   "execution_count": 15,
   "metadata": {},
   "outputs": [
    {
     "name": "stdout",
     "output_type": "stream",
     "text": [
      "20보다 작은 양수입니다\n"
     ]
    }
   ],
   "source": [
    "# 조금 더 간단하게\n",
    "\n",
    "if 0 < x < 20:\n",
    "    print('20보다 작은 양수입니다')"
   ]
  },
  {
   "cell_type": "code",
   "execution_count": null,
   "metadata": {},
   "outputs": [],
   "source": []
  }
 ],
 "metadata": {
  "language_info": {
   "name": "python"
  }
 },
 "nbformat": 4,
 "nbformat_minor": 2
}
