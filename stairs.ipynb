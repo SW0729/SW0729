{
 "cells": [
  {
   "cell_type": "markdown",
   "metadata": {},
   "source": [
    "# 계단식으로 별 출력하기"
   ]
  },
  {
   "cell_type": "markdown",
   "metadata": {},
   "source": [
    "# 중첩 루프 사용하기"
   ]
  },
  {
   "cell_type": "code",
   "execution_count": null,
   "metadata": {},
   "outputs": [],
   "source": [
    "for i in range(횟수):       # 바깥쪽 루프, i는 국룰이니까\n",
    "    for j in range(횟수):   # 안쪽 루프, j는 i 다음 자음이니까\n",
    "        # 가로 처리 코드 입력\n",
    "    # 세로 처리 코드 입력"
   ]
  },
  {
   "cell_type": "code",
   "execution_count": 3,
   "metadata": {},
   "outputs": [
    {
     "name": "stdout",
     "output_type": "stream",
     "text": [
      "j@0j@1j@2j@3j@4i0\\n\n",
      "j@0j@1j@2j@3j@4i1\\n\n",
      "j@0j@1j@2j@3j@4i2\\n\n",
      "j@0j@1j@2j@3j@4i3\\n\n",
      "j@0j@1j@2j@3j@4i4\\n\n"
     ]
    }
   ],
   "source": [
    "for i in range(5):                           # 5번 반복. 바깥쪽 루프는 세로 방향\n",
    "    for j in range(5):                       # 5번 반복. 안쪽 루프는 가로 방향\n",
    "        print('j', j, sep = '@', end = '')   # j값 출력. end에 ' '를 지정하여 줄바꿈 대신 한 칸 띄움\n",
    "    print('i', i, '\\\\n', sep = '')           # i값 출력, 개행 문자 모양도 출력\n",
    "                                             # 가로 방향으로 숫자를 모두 출력한 뒤 다음 줄로 넘어감\n",
    "                                             # (print는 기본적으로 출력 후 다음 줄로 넘어감)"
   ]
  },
  {
   "cell_type": "code",
   "execution_count": null,
   "metadata": {},
   "outputs": [],
   "source": []
  }
 ],
 "metadata": {
  "kernelspec": {
   "display_name": "Python (myenv_)",
   "language": "python",
   "name": "myenv"
  },
  "language_info": {
   "codemirror_mode": {
    "name": "ipython",
    "version": 3
   },
   "file_extension": ".py",
   "mimetype": "text/x-python",
   "name": "python",
   "nbconvert_exporter": "python",
   "pygments_lexer": "ipython3",
   "version": "3.8.20"
  }
 },
 "nbformat": 4,
 "nbformat_minor": 2
}
