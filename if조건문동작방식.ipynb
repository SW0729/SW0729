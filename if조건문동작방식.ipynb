{
 "cells": [
  {
   "cell_type": "code",
   "execution_count": null,
   "metadata": {},
   "outputs": [
    {
     "name": "stdout",
     "output_type": "stream",
     "text": [
      "참\n",
      "거짓\n",
      "거짓\n"
     ]
    }
   ],
   "source": [
    "# 조건식이 아닌 값으로 if와 else의 코드 동작시키기\n",
    "\n",
    "if True:\n",
    "    print('참') # True는 참\n",
    "else:\n",
    "    print('거짓')\n",
    "\n",
    "if False:\n",
    "    print('참')\n",
    "else:\n",
    "    print('거짓') # False는 거짓\n",
    "\n",
    "if None:\n",
    "    print('참')\n",
    "else:\n",
    "    print('거짓') # None은 거짓"
   ]
  },
  {
   "cell_type": "code",
   "execution_count": null,
   "metadata": {},
   "outputs": [
    {
     "name": "stdout",
     "output_type": "stream",
     "text": [
      "거짓\n",
      "참\n",
      "참\n",
      "참\n",
      "참\n"
     ]
    }
   ],
   "source": [
    "# if 조건문에 숫자 지정하기\n",
    "# 숫자는 정수(2진수, 10진수, 16진수), 실수와 관계없이 0이면 거짓, 0이 아닌 수는 참\n",
    "\n",
    "if 0:\n",
    "    print('참')\n",
    "else:\n",
    "    print('거짓') # 0dms 거짓\n",
    "\n",
    "if 1:\n",
    "    print('참') # 1은 참\n",
    "else:\n",
    "    print('거짓')\n",
    "\n",
    "if 0x1F: # 16진수\n",
    "    print('참') # 0x1F는 참\n",
    "else:\n",
    "    print('거짓')\n",
    "\n",
    "if 0b1000:    # 2진수\n",
    "    print('참')    # 0b1000은 참\n",
    "else:\n",
    "    print('거짓')\n",
    "\n",
    "if 13.5:    # 실수\n",
    "    print('참')    # 13.5는 참\n",
    "else:\n",
    "    print('거짓')"
   ]
  },
  {
   "cell_type": "code",
   "execution_count": 3,
   "metadata": {},
   "outputs": [
    {
     "name": "stdout",
     "output_type": "stream",
     "text": [
      "참\n",
      "거짓\n"
     ]
    }
   ],
   "source": [
    "# if 조건문에 문자열 지정하기\n",
    "# 문자열은 내용이 있을 때 참, 빈 문자열은 거짓\n",
    "\n",
    "if 'Hello': # 문자열\n",
    "    print('참') # 문자열은 참\n",
    "else:\n",
    "    print('거짓')\n",
    "\n",
    "if '': # 빈 문자열\n",
    "    print('참')\n",
    "else:\n",
    "    print('거짓') # 빈 문자열은 거짓"
   ]
  },
  {
   "cell_type": "code",
   "execution_count": 4,
   "metadata": {},
   "outputs": [
    {
     "name": "stdout",
     "output_type": "stream",
     "text": [
      "참\n",
      "참\n",
      "참\n"
     ]
    }
   ],
   "source": [
    "# 0, None, 빈 문자열을 not으로 뒤집으면\n",
    "# 0, None, 빈 문자열 ''을 not으로 뒤집으면 참(True)이 되므로 if를 동작시킬 수 있다\n",
    "\n",
    "if not 0:\n",
    "    print('참') # not 0은 참\n",
    "\n",
    "if not None:\n",
    "    print('참') # None은 참\n",
    "\n",
    "if not '':\n",
    "    print('참') # not 빈 문자열은 참"
   ]
  }
 ],
 "metadata": {
  "kernelspec": {
   "display_name": "Python (myenv_)",
   "language": "python",
   "name": "myenv"
  },
  "language_info": {
   "codemirror_mode": {
    "name": "ipython",
    "version": 3
   },
   "file_extension": ".py",
   "mimetype": "text/x-python",
   "name": "python",
   "nbconvert_exporter": "python",
   "pygments_lexer": "ipython3",
   "version": "3.8.20"
  }
 },
 "nbformat": 4,
 "nbformat_minor": 2
}
